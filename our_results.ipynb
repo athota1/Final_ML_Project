{
  "nbformat": 4,
  "nbformat_minor": 0,
  "metadata": {
    "colab": {
      "provenance": []
    },
    "kernelspec": {
      "name": "python3",
      "display_name": "Python 3"
    },
    "language_info": {
      "name": "python"
    }
  },
  "cells": [
    {
      "cell_type": "code",
      "source": [
        "!pip install transformers"
      ],
      "metadata": {
        "id": "iCXY5N-clEos"
      },
      "execution_count": null,
      "outputs": []
    },
    {
      "cell_type": "code",
      "source": [
        "!pip install datasets"
      ],
      "metadata": {
        "id": "hrJWKuo2niey"
      },
      "execution_count": null,
      "outputs": []
    },
    {
      "cell_type": "code",
      "execution_count": null,
      "metadata": {
        "id": "3ZkyIAiAbBFV"
      },
      "outputs": [],
      "source": [
        "import torch\n",
        "import pandas as pd\n",
        "from sklearn.metrics import accuracy_score, f1_score, roc_auc_score\n",
        "from transformers import RobertaTokenizer, RobertaForSequenceClassification\n",
        "from datasets import load_dataset\n",
        "\n",
        "# Load data\n",
        "dataset = load_dataset('hatexplain', split='train[:100%]', cache_dir='./datasets')\n",
        "\n",
        "print(dataset)\n",
        "# Convert to pandas DataFrame\n",
        "#df = pd.DataFrame(dataset['post_tokens'], columns=['text'])\n",
        "#df['HS'] = dataset['label']\n",
        "\n",
        "# Load tokenizer\n",
        "tokenizer = RobertaTokenizer.from_pretrained('roberta-base')\n",
        "\n",
        "# Tokenize inputs\n",
        "encodings = tokenizer(list(df['post_tokens']), truncation=True, padding=True)\n",
        "\n",
        "# Convert labels to numerical values\n",
        "labels = torch.tensor(list(df['HS'])) # HS is the column containing the labels\n",
        "\n",
        "# Load pre-trained model\n",
        "model = RobertaForSequenceClassification.from_pretrained('roberta-base')\n",
        "\n",
        "# Load checkpoint\n",
        "model.load_state_dict(torch.hub.load_state_dict_from_url('https://cdn.huggingface.co/vinai/phobert-base-finetuned-hatexplain.pth', map_location=torch.device('cpu')))\n",
        "\n",
        "# Set the model in evaluation mode\n",
        "model.eval()\n",
        "\n",
        "# Make predictions on test set\n",
        "with torch.no_grad():\n",
        "    logits = model(**encodings)[0]\n",
        "    predictions = torch.argmax(logits, dim=-1).cpu().numpy()\n",
        "\n",
        "# Calculate metrics\n",
        "acc = accuracy_score(labels, predictions)\n",
        "f1 = f1_score(labels, predictions)\n",
        "auc = roc_auc_score(labels, predictions)\n",
        "\n",
        "print(f\"Accuracy: {acc}\")\n",
        "print(f\"F1 Score: {f1}\")\n",
        "print(f\"AUC: {auc}\")\n"
      ]
    }
  ]
}